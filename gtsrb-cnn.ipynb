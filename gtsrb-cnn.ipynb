{
 "cells": [
  {
   "cell_type": "markdown",
   "metadata": {
    "_cell_guid": "b1076dfc-b9ad-4769-8c92-a6c4dae69d19",
    "_uuid": "8f2839f25d086af736a60e9eeb907d3b93b6e0e5",
    "execution": {
     "iopub.execute_input": "2023-07-05T04:20:52.576266Z",
     "iopub.status.busy": "2023-07-05T04:20:52.575868Z",
     "iopub.status.idle": "2023-07-05T04:21:00.460029Z",
     "shell.execute_reply": "2023-07-05T04:21:00.459072Z",
     "shell.execute_reply.started": "2023-07-05T04:20:52.576236Z"
    }
   },
   "source": [
    "%reload_ext autoreload\n",
    "%autoreload 2\n",
    "%matplotlib inline\n",
    "import tensorflow as tf\n",
    "print(tf.config.list_physical_devices('GPU'))"
   ]
  },
  {
   "cell_type": "code",
   "execution_count": 4,
   "metadata": {
    "execution": {
     "iopub.execute_input": "2023-07-05T04:21:00.463075Z",
     "iopub.status.busy": "2023-07-05T04:21:00.462282Z",
     "iopub.status.idle": "2023-07-05T04:21:00.790667Z",
     "shell.execute_reply": "2023-07-05T04:21:00.789778Z",
     "shell.execute_reply.started": "2023-07-05T04:21:00.463041Z"
    }
   },
   "outputs": [
    {
     "name": "stderr",
     "output_type": "stream",
     "text": [
      "/opt/conda/lib/python3.10/site-packages/tensorflow_addons/utils/tfa_eol_msg.py:23: UserWarning: \n",
      "\n",
      "TensorFlow Addons (TFA) has ended development and introduction of new features.\n",
      "TFA has entered a minimal maintenance and release mode until a planned end of life in May 2024.\n",
      "Please modify downstream libraries to take dependencies from other repositories in our TensorFlow community (e.g. Keras, Keras-CV, and Keras-NLP). \n",
      "\n",
      "For more information see: https://github.com/tensorflow/addons/issues/2807 \n",
      "\n",
      "  warnings.warn(\n"
     ]
    }
   ],
   "source": [
    "from tensorflow.keras import layers\n",
    "import tensorflow_addons as tfa\n",
    "import os\n",
    "import cv2\n",
    "import numpy as np\n",
    "import matplotlib.pyplot as plt\n",
    "import random\n",
    "from keras.utils import to_categorical\n",
    "import os\n",
    "from tqdm import tqdm\n",
    "from keras.callbacks import ModelCheckpoint, EarlyStopping\n",
    "from tensorflow import keras\n",
    "from tensorflow.keras import Model\n",
    "from tensorflow.keras.layers import Dense, Input, Dropout, Flatten, Reshape, Activation, Dot\n",
    "from tensorflow.keras.layers import Conv2D, MaxPooling2D, GlobalMaxPooling2D, BatchNormalization, LayerNormalization, Normalization\n",
    "from tensorflow.keras.regularizers import l2\n",
    "from keras.preprocessing.image import ImageDataGenerator\n",
    "import multiprocessing"
   ]
  },
  {
   "cell_type": "code",
   "execution_count": 5,
   "metadata": {
    "execution": {
     "iopub.execute_input": "2023-07-05T04:21:00.792280Z",
     "iopub.status.busy": "2023-07-05T04:21:00.791937Z",
     "iopub.status.idle": "2023-07-05T04:21:00.865874Z",
     "shell.execute_reply": "2023-07-05T04:21:00.864962Z",
     "shell.execute_reply.started": "2023-07-05T04:21:00.792247Z"
    }
   },
   "outputs": [],
   "source": [
    "train_folder = '/kaggle/input/gtsrb-german-traffic-sign/Train'\n",
    "test_folder = '/kaggle/input/gtsrb-german-traffic-sign'\n",
    "\n",
    "train_datagen = ImageDataGenerator(\n",
    "    validation_split = 0.3,\n",
    "    rotation_range=15,\n",
    "    width_shift_range=0.1,\n",
    "    height_shift_range=0.1,\n",
    "    fill_mode=\"nearest\",\n",
    "    shear_range=0.15,\n",
    "    zoom_range=0.15,\n",
    "    horizontal_flip=False,\n",
    "    vertical_flip=False\n",
    ")\n",
    "test_datagen = ImageDataGenerator()\n",
    "cpus_num = max([multiprocessing.cpu_count(), 4])"
   ]
  },
  {
   "cell_type": "code",
   "execution_count": 6,
   "metadata": {
    "execution": {
     "iopub.execute_input": "2023-07-05T04:21:00.869060Z",
     "iopub.status.busy": "2023-07-05T04:21:00.868695Z",
     "iopub.status.idle": "2023-07-05T04:21:00.944694Z",
     "shell.execute_reply": "2023-07-05T04:21:00.943730Z",
     "shell.execute_reply.started": "2023-07-05T04:21:00.869029Z"
    }
   },
   "outputs": [],
   "source": [
    "# Label Overview\n",
    "classes = { \n",
    "    0:'Speed limit (20km/h)',\n",
    "    1:'Speed limit (30km/h)', \n",
    "    2:'Speed limit (50km/h)', \n",
    "    3:'Speed limit (60km/h)', \n",
    "    4:'Speed limit (70km/h)', \n",
    "    5:'Speed limit (80km/h)', \n",
    "    6:'End of speed limit (80km/h)', \n",
    "    7:'Speed limit (100km/h)', \n",
    "    8:'Speed limit (120km/h)', \n",
    "    9:'No passing', \n",
    "    10:'No passing veh over 3.5 tons', \n",
    "    11:'Right-of-way at intersection', \n",
    "    12:'Priority road', \n",
    "    13:'Yield', \n",
    "    14:'Stop', \n",
    "    15:'No vehicles', \n",
    "    16:'Veh > 3.5 tons prohibited', \n",
    "    17:'No entry', \n",
    "    18:'General caution', \n",
    "    19:'Dangerous curve left', \n",
    "    20:'Dangerous curve right', \n",
    "    21:'Double curve', \n",
    "    22:'Bumpy road', \n",
    "    23:'Slippery road', \n",
    "    24:'Road narrows on the right', \n",
    "    25:'Road work', \n",
    "    26:'Traffic signals', \n",
    "    27:'Pedestrians', \n",
    "    28:'Children crossing', \n",
    "    29:'Bicycles crossing', \n",
    "    30:'Beware of ice/snow',\n",
    "    31:'Wild animals crossing', \n",
    "    32:'End speed + passing limits', \n",
    "    33:'Turn right ahead', \n",
    "    34:'Turn left ahead', \n",
    "    35:'Ahead only', \n",
    "    36:'Go straight or right', \n",
    "    37:'Go straight or left', \n",
    "    38:'Keep right', \n",
    "    39:'Keep left', \n",
    "    40:'Roundabout mandatory', \n",
    "    41:'End of no passing', \n",
    "    42:'End no passing veh > 3.5 tons'\n",
    "}"
   ]
  },
  {
   "cell_type": "code",
   "execution_count": 7,
   "metadata": {
    "execution": {
     "iopub.execute_input": "2023-07-05T04:21:00.947445Z",
     "iopub.status.busy": "2023-07-05T04:21:00.947121Z",
     "iopub.status.idle": "2023-07-05T04:21:01.023430Z",
     "shell.execute_reply": "2023-07-05T04:21:01.022374Z",
     "shell.execute_reply.started": "2023-07-05T04:21:00.947413Z"
    }
   },
   "outputs": [
    {
     "data": {
      "text/plain": [
       "43"
      ]
     },
     "execution_count": 7,
     "metadata": {},
     "output_type": "execute_result"
    }
   ],
   "source": [
    "len(classes)"
   ]
  },
  {
   "cell_type": "code",
   "execution_count": 8,
   "metadata": {
    "execution": {
     "iopub.execute_input": "2023-07-05T04:21:01.025405Z",
     "iopub.status.busy": "2023-07-05T04:21:01.025058Z",
     "iopub.status.idle": "2023-07-05T04:21:01.100206Z",
     "shell.execute_reply": "2023-07-05T04:21:01.099272Z",
     "shell.execute_reply.started": "2023-07-05T04:21:01.025375Z"
    }
   },
   "outputs": [],
   "source": [
    "num_classes = len(classes)\n",
    "target_size_x = 48\n",
    "target_size_y = 48\n",
    "seed = 123\n",
    "batch_size = 32\n",
    "np.random.seed(seed)"
   ]
  },
  {
   "cell_type": "code",
   "execution_count": 9,
   "metadata": {
    "execution": {
     "iopub.execute_input": "2023-07-05T04:21:01.102771Z",
     "iopub.status.busy": "2023-07-05T04:21:01.102431Z",
     "iopub.status.idle": "2023-07-05T04:21:01.213389Z",
     "shell.execute_reply": "2023-07-05T04:21:01.212344Z",
     "shell.execute_reply.started": "2023-07-05T04:21:01.102735Z"
    }
   },
   "outputs": [
    {
     "data": {
      "text/html": [
       "<div>\n",
       "<style scoped>\n",
       "    .dataframe tbody tr th:only-of-type {\n",
       "        vertical-align: middle;\n",
       "    }\n",
       "\n",
       "    .dataframe tbody tr th {\n",
       "        vertical-align: top;\n",
       "    }\n",
       "\n",
       "    .dataframe thead th {\n",
       "        text-align: right;\n",
       "    }\n",
       "</style>\n",
       "<table border=\"1\" class=\"dataframe\">\n",
       "  <thead>\n",
       "    <tr style=\"text-align: right;\">\n",
       "      <th></th>\n",
       "      <th>Width</th>\n",
       "      <th>Height</th>\n",
       "      <th>Roi.X1</th>\n",
       "      <th>Roi.Y1</th>\n",
       "      <th>Roi.X2</th>\n",
       "      <th>Roi.Y2</th>\n",
       "      <th>ClassId</th>\n",
       "      <th>Path</th>\n",
       "    </tr>\n",
       "  </thead>\n",
       "  <tbody>\n",
       "    <tr>\n",
       "      <th>0</th>\n",
       "      <td>53</td>\n",
       "      <td>54</td>\n",
       "      <td>6</td>\n",
       "      <td>5</td>\n",
       "      <td>48</td>\n",
       "      <td>49</td>\n",
       "      <td>16</td>\n",
       "      <td>Test/00000.png</td>\n",
       "    </tr>\n",
       "    <tr>\n",
       "      <th>1</th>\n",
       "      <td>42</td>\n",
       "      <td>45</td>\n",
       "      <td>5</td>\n",
       "      <td>5</td>\n",
       "      <td>36</td>\n",
       "      <td>40</td>\n",
       "      <td>1</td>\n",
       "      <td>Test/00001.png</td>\n",
       "    </tr>\n",
       "    <tr>\n",
       "      <th>2</th>\n",
       "      <td>48</td>\n",
       "      <td>52</td>\n",
       "      <td>6</td>\n",
       "      <td>6</td>\n",
       "      <td>43</td>\n",
       "      <td>47</td>\n",
       "      <td>38</td>\n",
       "      <td>Test/00002.png</td>\n",
       "    </tr>\n",
       "    <tr>\n",
       "      <th>3</th>\n",
       "      <td>27</td>\n",
       "      <td>29</td>\n",
       "      <td>5</td>\n",
       "      <td>5</td>\n",
       "      <td>22</td>\n",
       "      <td>24</td>\n",
       "      <td>33</td>\n",
       "      <td>Test/00003.png</td>\n",
       "    </tr>\n",
       "    <tr>\n",
       "      <th>4</th>\n",
       "      <td>60</td>\n",
       "      <td>57</td>\n",
       "      <td>5</td>\n",
       "      <td>5</td>\n",
       "      <td>55</td>\n",
       "      <td>52</td>\n",
       "      <td>11</td>\n",
       "      <td>Test/00004.png</td>\n",
       "    </tr>\n",
       "  </tbody>\n",
       "</table>\n",
       "</div>"
      ],
      "text/plain": [
       "   Width  Height  Roi.X1  Roi.Y1  Roi.X2  Roi.Y2  ClassId            Path\n",
       "0     53      54       6       5      48      49       16  Test/00000.png\n",
       "1     42      45       5       5      36      40        1  Test/00001.png\n",
       "2     48      52       6       6      43      47       38  Test/00002.png\n",
       "3     27      29       5       5      22      24       33  Test/00003.png\n",
       "4     60      57       5       5      55      52       11  Test/00004.png"
      ]
     },
     "execution_count": 9,
     "metadata": {},
     "output_type": "execute_result"
    }
   ],
   "source": [
    "import pandas as pd\n",
    "df = pd.read_csv(test_folder + '/Test.csv')\n",
    "df.head()"
   ]
  },
  {
   "cell_type": "code",
   "execution_count": 10,
   "metadata": {
    "execution": {
     "iopub.execute_input": "2023-07-05T04:21:01.215522Z",
     "iopub.status.busy": "2023-07-05T04:21:01.214937Z",
     "iopub.status.idle": "2023-07-05T04:24:11.202593Z",
     "shell.execute_reply": "2023-07-05T04:24:11.201605Z",
     "shell.execute_reply.started": "2023-07-05T04:21:01.215488Z"
    }
   },
   "outputs": [
    {
     "name": "stderr",
     "output_type": "stream",
     "text": [
      "100%|██████████| 43/43 [03:09<00:00,  4.42s/it]\n"
     ]
    }
   ],
   "source": [
    "x_train = []\n",
    "y_train = []\n",
    "\n",
    "for i in tqdm(range(len(classes))):         \n",
    "    for imgFile in os.listdir(os.path.join(train_folder, str(i))):\n",
    "        img_path = os.path.join(os.path.join(train_folder, str(i)), imgFile)\n",
    "        image = cv2.imread(img_path)\n",
    "        image = cv2.resize(image, (target_size_x,target_size_y))\n",
    "\n",
    "        x_train.append(image/255.0)\n",
    "        y_train.append(i)"
   ]
  },
  {
   "cell_type": "code",
   "execution_count": 11,
   "metadata": {
    "execution": {
     "iopub.execute_input": "2023-07-05T04:24:11.204928Z",
     "iopub.status.busy": "2023-07-05T04:24:11.204237Z",
     "iopub.status.idle": "2023-07-05T04:24:12.441582Z",
     "shell.execute_reply": "2023-07-05T04:24:12.440375Z",
     "shell.execute_reply.started": "2023-07-05T04:24:11.204894Z"
    }
   },
   "outputs": [
    {
     "name": "stdout",
     "output_type": "stream",
     "text": [
      "x_train.shape (31367, 48, 48, 3)\n",
      "x_valid.shape (7842, 48, 48, 3)\n",
      "y_train.shape (31367, 43)\n",
      "y_valid.shape (7842, 43)\n"
     ]
    }
   ],
   "source": [
    "from sklearn.model_selection import train_test_split\n",
    "\n",
    "x_train = np.array(x_train, dtype = 'float32')\n",
    "y_train = np.array(y_train, dtype = 'int32')\n",
    "y_train = keras.utils.to_categorical(y_train, num_classes=43)\n",
    "\n",
    "x_train, x_val, y_train, y_val = train_test_split(x_train, y_train, test_size = 0.2)\n",
    "print(\"x_train.shape\", x_train.shape)\n",
    "print(\"x_valid.shape\", x_val.shape)\n",
    "print(\"y_train.shape\", y_train.shape)\n",
    "print(\"y_valid.shape\", y_val.shape)"
   ]
  },
  {
   "cell_type": "code",
   "execution_count": 12,
   "metadata": {
    "execution": {
     "iopub.execute_input": "2023-07-05T04:24:12.446163Z",
     "iopub.status.busy": "2023-07-05T04:24:12.445691Z",
     "iopub.status.idle": "2023-07-05T04:24:12.525113Z",
     "shell.execute_reply": "2023-07-05T04:24:12.523825Z",
     "shell.execute_reply.started": "2023-07-05T04:24:12.446128Z"
    }
   },
   "outputs": [],
   "source": [
    "train_flow = train_datagen.flow(\n",
    "    x_train, y_train,\n",
    "    batch_size=batch_size,\n",
    "    shuffle=True,\n",
    "    seed=seed\n",
    ")\n",
    "val_flow = test_datagen.flow(\n",
    "    x_val, y_val,\n",
    "    batch_size=batch_size,\n",
    "    shuffle=True,\n",
    "    seed=seed\n",
    ")"
   ]
  },
  {
   "cell_type": "code",
   "execution_count": 13,
   "metadata": {
    "execution": {
     "iopub.execute_input": "2023-07-05T04:24:12.527076Z",
     "iopub.status.busy": "2023-07-05T04:24:12.526658Z",
     "iopub.status.idle": "2023-07-05T04:24:12.613832Z",
     "shell.execute_reply": "2023-07-05T04:24:12.612824Z",
     "shell.execute_reply.started": "2023-07-05T04:24:12.527043Z"
    }
   },
   "outputs": [],
   "source": [
    "class LRN2D(tf.keras.layers.Layer):\n",
    "    \"\"\"\n",
    "    This code is adapted from pylearn2.\n",
    "    License at: https://github.com/lisa-lab/pylearn2/blob/master/LICENSE.txt\n",
    "    \"\"\"\n",
    "\n",
    "    def __init__(self, alpha=1e-4, k=2, beta=0.75, n=5):\n",
    "        if n % 2 == 0:\n",
    "            raise NotImplementedError(\"LRN2D only works with odd n. n provided: \" + str(n))\n",
    "        super(LRN2D, self).__init__()\n",
    "        self.alpha = alpha\n",
    "        self.k = k\n",
    "        self.beta = beta\n",
    "        self.n = n\n",
    "\n",
    "    def get_output(self, train):\n",
    "        X = self.get_input(train)\n",
    "        b, ch, r, c = X.shape\n",
    "        half_n = self.n // 2\n",
    "        input_sqr = T.sqr(X)\n",
    "        extra_channels = T.alloc(0., b, ch + 2*half_n, r, c)\n",
    "        input_sqr = T.set_subtensor(extra_channels[:, half_n:half_n+ch, :, :], input_sqr)\n",
    "        scale = self.k\n",
    "        for i in range(self.n):\n",
    "            scale += self.alpha * input_sqr[:, i:i+ch, :, :]\n",
    "        scale = scale ** self.beta\n",
    "        return X / scale\n",
    "\n",
    "    def get_config(self):\n",
    "        return {\"name\": self.__class__.__name__,\n",
    "                \"alpha\": self.alpha,\n",
    "                \"k\": self.k,\n",
    "                \"beta\": self.beta,\n",
    "                \"n\": self.n}"
   ]
  },
  {
   "cell_type": "code",
   "execution_count": 28,
   "metadata": {
    "execution": {
     "iopub.execute_input": "2023-07-05T04:34:16.886270Z",
     "iopub.status.busy": "2023-07-05T04:34:16.885708Z",
     "iopub.status.idle": "2023-07-05T04:34:16.997627Z",
     "shell.execute_reply": "2023-07-05T04:34:16.996434Z",
     "shell.execute_reply.started": "2023-07-05T04:34:16.886230Z"
    }
   },
   "outputs": [],
   "source": [
    "def creat_cnn_model():\n",
    "    inputs = layers.Input((target_size_x, target_size_y, 3))\n",
    "    \n",
    "    norm = Normalization(mean=[0.4914, 0.4822, 0.4465], \n",
    "                  variance=[np.square(0.247), \n",
    "                            np.square(0.243), \n",
    "                            np.square(0.261)])(inputs)\n",
    "    \n",
    "    x = Conv2D(filters=200, kernel_size=(7,7), padding='valid', activation='relu', kernel_initializer=\"he_normal\")(norm)\n",
    "    x = layers.MaxPool2D(pool_size=(2, 2))(x)\n",
    "    x = LRN2D()(x)\n",
    "    \n",
    "    x = Conv2D(filters=250, kernel_size=(4,4), padding='valid', activation='relu', kernel_initializer=\"he_normal\")(x)\n",
    "    x = layers.MaxPool2D(pool_size=(2, 2))(x)\n",
    "    x = LRN2D()(x)\n",
    "    \n",
    "    x = Conv2D(filters=350, kernel_size=(4,4), padding='valid', activation='relu', kernel_initializer=\"he_normal\")(x)\n",
    "    x = layers.MaxPool2D(pool_size=(2, 2))(x)\n",
    "    x = LRN2D()(x)\n",
    "    \n",
    "    x = Dropout(rate=0.25)(x)\n",
    "    x = Flatten()(x)\n",
    "    x = Dense(400, activation='relu')(x)\n",
    "    x = Dropout(rate=0.5)(x)\n",
    "    classifier = Dense(43, activation='softmax')(x)\n",
    "    return keras.Model(inputs=inputs, outputs=classifier)"
   ]
  },
  {
   "cell_type": "code",
   "execution_count": 36,
   "metadata": {
    "execution": {
     "iopub.execute_input": "2023-07-05T05:00:54.161583Z",
     "iopub.status.busy": "2023-07-05T05:00:54.160642Z",
     "iopub.status.idle": "2023-07-05T05:00:54.427075Z",
     "shell.execute_reply": "2023-07-05T05:00:54.426336Z",
     "shell.execute_reply.started": "2023-07-05T05:00:54.161543Z"
    }
   },
   "outputs": [
    {
     "name": "stdout",
     "output_type": "stream",
     "text": [
      "Model: \"model_7\"\n",
      "_________________________________________________________________\n",
      " Layer (type)                Output Shape              Param #   \n",
      "=================================================================\n",
      " input_8 (InputLayer)        [(None, 48, 48, 3)]       0         \n",
      "                                                                 \n",
      " normalization_7 (Normalizat  (None, 48, 48, 3)        0         \n",
      " ion)                                                            \n",
      "                                                                 \n",
      " conv2d_21 (Conv2D)          (None, 42, 42, 200)       29600     \n",
      "                                                                 \n",
      " max_pooling2d_21 (MaxPoolin  (None, 21, 21, 200)      0         \n",
      " g2D)                                                            \n",
      "                                                                 \n",
      " lrn2d_21 (LRN2D)            (None, 21, 21, 200)       0         \n",
      "                                                                 \n",
      " conv2d_22 (Conv2D)          (None, 18, 18, 250)       800250    \n",
      "                                                                 \n",
      " max_pooling2d_22 (MaxPoolin  (None, 9, 9, 250)        0         \n",
      " g2D)                                                            \n",
      "                                                                 \n",
      " lrn2d_22 (LRN2D)            (None, 9, 9, 250)         0         \n",
      "                                                                 \n",
      " conv2d_23 (Conv2D)          (None, 6, 6, 350)         1400350   \n",
      "                                                                 \n",
      " max_pooling2d_23 (MaxPoolin  (None, 3, 3, 350)        0         \n",
      " g2D)                                                            \n",
      "                                                                 \n",
      " lrn2d_23 (LRN2D)            (None, 3, 3, 350)         0         \n",
      "                                                                 \n",
      " dropout_14 (Dropout)        (None, 3, 3, 350)         0         \n",
      "                                                                 \n",
      " flatten_7 (Flatten)         (None, 3150)              0         \n",
      "                                                                 \n",
      " dense_14 (Dense)            (None, 400)               1260400   \n",
      "                                                                 \n",
      " dropout_15 (Dropout)        (None, 400)               0         \n",
      "                                                                 \n",
      " dense_15 (Dense)            (None, 43)                17243     \n",
      "                                                                 \n",
      "=================================================================\n",
      "Total params: 3,507,843\n",
      "Trainable params: 3,507,843\n",
      "Non-trainable params: 0\n",
      "_________________________________________________________________\n"
     ]
    }
   ],
   "source": [
    "model = creat_cnn_model()\n",
    "model.summary()"
   ]
  },
  {
   "cell_type": "code",
   "execution_count": 16,
   "metadata": {
    "execution": {
     "iopub.execute_input": "2023-07-05T04:24:15.001112Z",
     "iopub.status.busy": "2023-07-05T04:24:15.000753Z",
     "iopub.status.idle": "2023-07-05T04:24:15.092493Z",
     "shell.execute_reply": "2023-07-05T04:24:15.091393Z",
     "shell.execute_reply.started": "2023-07-05T04:24:15.001078Z"
    }
   },
   "outputs": [],
   "source": [
    "class CosineDecay(tf.keras.optimizers.schedules.LearningRateSchedule):\n",
    "    def __init__(self, min_lr, max_lr, warmup_steps=4000, alpha=0):\n",
    "        super(CosineDecay, self).__init__()\n",
    "\n",
    "        self.min_lr = min_lr\n",
    "        self.max_lr = max_lr\n",
    "        self.warmup_steps = warmup_steps\n",
    "        self.max_steps = warmup_steps * 10\n",
    "        self.alpha = alpha\n",
    "\n",
    "    def __call__(self, step):\n",
    "        arg1 = (self.max_lr - self.min_lr) * step / self.warmup_steps + self.min_lr\n",
    "        min_step = tf.math.minimum(step, self.max_steps)\n",
    "        cosine_decay = 0.5 * (1 + tf.math.cos(np.pi * min_step / self.max_steps))\n",
    "        decayed = (1 - self.alpha) * cosine_decay + self.alpha\n",
    "        arg2 = (self.max_lr - self.min_lr) * decayed + self.min_lr\n",
    "        return tf.math.minimum(arg1, arg2)\n",
    "    \n",
    "    def on_epoch_begin(self, epoch, logs=None):\n",
    "        if not hasattr(self.model.optimizer, \"lr\"):\n",
    "            raise ValueError('Optimizer must have a \"lr\" attribute.')\n",
    "        # Get the current learning rate from model's optimizer.\n",
    "        lr = float(tf.keras.backend.get_value(self.model.optimizer.learning_rate))\n",
    "        print(\"\\nEpoch %05d: Current learning rate is %6.4f.\" % (epoch, lr))"
   ]
  },
  {
   "cell_type": "code",
   "execution_count": 38,
   "metadata": {
    "execution": {
     "iopub.execute_input": "2023-07-05T05:01:39.168509Z",
     "iopub.status.busy": "2023-07-05T05:01:39.168129Z",
     "iopub.status.idle": "2023-07-05T05:20:56.868487Z",
     "shell.execute_reply": "2023-07-05T05:20:56.867488Z",
     "shell.execute_reply.started": "2023-07-05T05:01:39.168477Z"
    }
   },
   "outputs": [
    {
     "name": "stdout",
     "output_type": "stream",
     "text": [
      "Epoch 1/30\n"
     ]
    },
    {
     "name": "stderr",
     "output_type": "stream",
     "text": [
      "2023-07-05 05:01:55.087875: E tensorflow/core/grappler/optimizers/meta_optimizer.cc:954] layout failed: INVALID_ARGUMENT: Size of values 0 does not match size of permutation 4 @ fanin shape inmodel_7/dropout_14/dropout/SelectV2-2-TransposeNHWCToNCHW-LayoutOptimizer\n"
     ]
    },
    {
     "name": "stdout",
     "output_type": "stream",
     "text": [
      "980/980 [==============================] - 52s 36ms/step - loss: 2.1332 - acc: 0.4070 - top-5-accuracy: 0.7167 - val_loss: 0.5420 - val_acc: 0.8370 - val_top-5-accuracy: 0.9790\n",
      "Epoch 2/30\n",
      "980/980 [==============================] - 35s 36ms/step - loss: 0.7290 - acc: 0.7724 - top-5-accuracy: 0.9652 - val_loss: 0.1245 - val_acc: 0.9723 - val_top-5-accuracy: 0.9990\n",
      "Epoch 3/30\n",
      "980/980 [==============================] - 35s 36ms/step - loss: 0.3624 - acc: 0.8872 - top-5-accuracy: 0.9893 - val_loss: 0.0578 - val_acc: 0.9869 - val_top-5-accuracy: 0.9995\n",
      "Epoch 4/30\n",
      "980/980 [==============================] - 36s 36ms/step - loss: 0.2281 - acc: 0.9304 - top-5-accuracy: 0.9944 - val_loss: 0.0340 - val_acc: 0.9912 - val_top-5-accuracy: 0.9997\n",
      "Epoch 5/30\n",
      "980/980 [==============================] - 35s 36ms/step - loss: 0.1630 - acc: 0.9520 - top-5-accuracy: 0.9966 - val_loss: 0.0187 - val_acc: 0.9950 - val_top-5-accuracy: 0.9997\n",
      "Epoch 6/30\n",
      "980/980 [==============================] - 35s 36ms/step - loss: 0.1192 - acc: 0.9634 - top-5-accuracy: 0.9984 - val_loss: 0.0215 - val_acc: 0.9926 - val_top-5-accuracy: 0.9997\n",
      "Epoch 7/30\n",
      "980/980 [==============================] - 35s 36ms/step - loss: 0.1031 - acc: 0.9695 - top-5-accuracy: 0.9980 - val_loss: 0.0184 - val_acc: 0.9946 - val_top-5-accuracy: 0.9997\n",
      "Epoch 8/30\n",
      "980/980 [==============================] - 35s 36ms/step - loss: 0.0888 - acc: 0.9731 - top-5-accuracy: 0.9983 - val_loss: 0.0088 - val_acc: 0.9973 - val_top-5-accuracy: 0.9999\n",
      "Epoch 9/30\n",
      "980/980 [==============================] - 35s 36ms/step - loss: 0.0764 - acc: 0.9769 - top-5-accuracy: 0.9987 - val_loss: 0.0073 - val_acc: 0.9982 - val_top-5-accuracy: 1.0000\n",
      "Epoch 10/30\n",
      "980/980 [==============================] - 35s 36ms/step - loss: 0.0668 - acc: 0.9796 - top-5-accuracy: 0.9989 - val_loss: 0.0067 - val_acc: 0.9985 - val_top-5-accuracy: 0.9999\n",
      "Epoch 11/30\n",
      "980/980 [==============================] - 35s 36ms/step - loss: 0.0593 - acc: 0.9830 - top-5-accuracy: 0.9993 - val_loss: 0.0060 - val_acc: 0.9982 - val_top-5-accuracy: 1.0000\n",
      "Epoch 12/30\n",
      "980/980 [==============================] - 35s 36ms/step - loss: 0.0549 - acc: 0.9839 - top-5-accuracy: 0.9993 - val_loss: 0.0050 - val_acc: 0.9985 - val_top-5-accuracy: 0.9999\n",
      "Epoch 13/30\n",
      "980/980 [==============================] - 35s 36ms/step - loss: 0.0527 - acc: 0.9844 - top-5-accuracy: 0.9992 - val_loss: 0.0036 - val_acc: 0.9990 - val_top-5-accuracy: 0.9999\n",
      "Epoch 14/30\n",
      "980/980 [==============================] - 35s 36ms/step - loss: 0.0411 - acc: 0.9880 - top-5-accuracy: 0.9994 - val_loss: 0.0053 - val_acc: 0.9983 - val_top-5-accuracy: 0.9999\n",
      "Epoch 15/30\n",
      "980/980 [==============================] - 36s 36ms/step - loss: 0.0395 - acc: 0.9880 - top-5-accuracy: 0.9996 - val_loss: 0.0053 - val_acc: 0.9987 - val_top-5-accuracy: 0.9999\n",
      "Epoch 16/30\n",
      "980/980 [==============================] - 35s 36ms/step - loss: 0.0347 - acc: 0.9898 - top-5-accuracy: 0.9996 - val_loss: 0.0039 - val_acc: 0.9992 - val_top-5-accuracy: 1.0000\n",
      "Epoch 17/30\n",
      "980/980 [==============================] - 36s 36ms/step - loss: 0.0316 - acc: 0.9910 - top-5-accuracy: 0.9997 - val_loss: 0.0028 - val_acc: 0.9991 - val_top-5-accuracy: 0.9999\n",
      "Epoch 18/30\n",
      "980/980 [==============================] - 36s 37ms/step - loss: 0.0291 - acc: 0.9911 - top-5-accuracy: 0.9997 - val_loss: 0.0026 - val_acc: 0.9995 - val_top-5-accuracy: 1.0000\n",
      "Epoch 19/30\n",
      "980/980 [==============================] - 35s 36ms/step - loss: 0.0281 - acc: 0.9915 - top-5-accuracy: 0.9996 - val_loss: 0.0024 - val_acc: 0.9994 - val_top-5-accuracy: 0.9999\n",
      "Epoch 20/30\n",
      "980/980 [==============================] - 35s 36ms/step - loss: 0.0269 - acc: 0.9923 - top-5-accuracy: 0.9999 - val_loss: 0.0042 - val_acc: 0.9989 - val_top-5-accuracy: 1.0000\n",
      "Epoch 21/30\n",
      "980/980 [==============================] - 35s 36ms/step - loss: 0.0267 - acc: 0.9917 - top-5-accuracy: 0.9997 - val_loss: 0.0027 - val_acc: 0.9992 - val_top-5-accuracy: 1.0000\n",
      "Epoch 22/30\n",
      "980/980 [==============================] - 35s 36ms/step - loss: 0.0257 - acc: 0.9923 - top-5-accuracy: 0.9998 - val_loss: 0.0032 - val_acc: 0.9991 - val_top-5-accuracy: 1.0000\n",
      "Epoch 23/30\n",
      "980/980 [==============================] - 35s 36ms/step - loss: 0.0237 - acc: 0.9930 - top-5-accuracy: 0.9998 - val_loss: 0.0018 - val_acc: 0.9995 - val_top-5-accuracy: 1.0000\n",
      "Epoch 24/30\n",
      "980/980 [==============================] - 36s 36ms/step - loss: 0.0201 - acc: 0.9937 - top-5-accuracy: 1.0000 - val_loss: 0.0020 - val_acc: 0.9996 - val_top-5-accuracy: 1.0000\n",
      "Epoch 25/30\n",
      "980/980 [==============================] - 35s 36ms/step - loss: 0.0226 - acc: 0.9933 - top-5-accuracy: 0.9998 - val_loss: 0.0024 - val_acc: 0.9995 - val_top-5-accuracy: 1.0000\n",
      "Epoch 26/30\n",
      "980/980 [==============================] - 36s 37ms/step - loss: 0.0197 - acc: 0.9942 - top-5-accuracy: 0.9998 - val_loss: 0.0014 - val_acc: 0.9996 - val_top-5-accuracy: 0.9999\n",
      "Epoch 27/30\n",
      "980/980 [==============================] - 36s 36ms/step - loss: 0.0185 - acc: 0.9947 - top-5-accuracy: 0.9999 - val_loss: 0.0014 - val_acc: 0.9996 - val_top-5-accuracy: 1.0000\n",
      "Epoch 28/30\n",
      "980/980 [==============================] - 35s 36ms/step - loss: 0.0164 - acc: 0.9955 - top-5-accuracy: 0.9998 - val_loss: 0.0015 - val_acc: 0.9997 - val_top-5-accuracy: 1.0000\n",
      "Epoch 29/30\n",
      "980/980 [==============================] - 35s 36ms/step - loss: 0.0159 - acc: 0.9952 - top-5-accuracy: 0.9998 - val_loss: 0.0029 - val_acc: 0.9992 - val_top-5-accuracy: 1.0000\n",
      "Epoch 30/30\n",
      "980/980 [==============================] - 36s 37ms/step - loss: 0.0169 - acc: 0.9952 - top-5-accuracy: 0.9998 - val_loss: 0.0019 - val_acc: 0.9995 - val_top-5-accuracy: 1.0000\n"
     ]
    }
   ],
   "source": [
    "epochs = 30   # number of all epochs in training\n",
    "stop_patience = 10   # number of epochs to wait before stopping training if monitored value does not improve\n",
    "batches = int(len(x_train) / batch_size)  # number of training batch to run per epoch\n",
    "\n",
    "warmup_steps = batches * 5\n",
    "learning_rate = CosineDecay(\n",
    "    min_lr=1E-5, max_lr=1E-2, warmup_steps=warmup_steps\n",
    ")\n",
    "    \n",
    "checkpoint = ModelCheckpoint(\n",
    "      filepath='cnn48-{epoch:02d}-{val_acc:.4f}.h5',\n",
    "      save_weights_only=True,\n",
    "      monitor='val_acc',\n",
    "      mode='max',\n",
    "      save_best_only=True,\n",
    "      initial_value_threshold=0.995)\n",
    "\n",
    "earlystop = EarlyStopping(\n",
    "      monitor='val_loss', patience=stop_patience, mode='min', restore_best_weights=True)\n",
    "\n",
    "loss_fn = tf.keras.losses.CategoricalCrossentropy()\n",
    "\n",
    "optimizer = keras.optimizers.SGD(learning_rate=0.02)\n",
    "\n",
    "\n",
    "model.compile(\n",
    "        optimizer, loss=loss_fn,\n",
    "        metrics=[\n",
    "        keras.metrics.CategoricalAccuracy(name=\"acc\"),\n",
    "        keras.metrics.TopKCategoricalAccuracy(5, name=\"top-5-accuracy\"),\n",
    "    ],\n",
    ")\n",
    "history = model.fit(\n",
    "    x = train_flow,\n",
    "    batch_size=batch_size,\n",
    "    validation_data=val_flow,\n",
    "    steps_per_epoch=batches,\n",
    "    verbose=1,\n",
    "    epochs=epochs,\n",
    "    callbacks=[checkpoint, earlystop],\n",
    "    validation_steps= None,\n",
    "    shuffle= False,\n",
    ")"
   ]
  },
  {
   "cell_type": "code",
   "execution_count": 39,
   "metadata": {
    "execution": {
     "iopub.execute_input": "2023-07-05T05:34:22.073209Z",
     "iopub.status.busy": "2023-07-05T05:34:22.072299Z",
     "iopub.status.idle": "2023-07-05T05:34:22.673954Z",
     "shell.execute_reply": "2023-07-05T05:34:22.672898Z",
     "shell.execute_reply.started": "2023-07-05T05:34:22.073175Z"
    }
   },
   "outputs": [
    {
     "data": {
      "image/png": "[encoded data removed]",
      "text/plain": [
       "<Figure size 1600x600 with 2 Axes>"
      ]
     },
     "metadata": {},
     "output_type": "display_data"
    }
   ],
   "source": [
    "acc = history.history['acc']\n",
    "val_acc = history.history['val_acc']\n",
    "loss = history.history['loss']\n",
    "val_loss = history.history['val_loss']\n",
    "epochs = range(1, len(acc) + 1)\n",
    "\n",
    "fig, axs = plt.subplots(1,2,figsize = (16,6))\n",
    "axs[0].plot(epochs, acc, 'b', label='Training acc')\n",
    "axs[0].plot(epochs, val_acc, 'r', label='Validation acc')\n",
    "axs[0].set_title('Training and validation accuracy')\n",
    "axs[0].set_xlabel('Epochs')\n",
    "axs[0].set_ylabel('Accuracy')\n",
    "axs[0].legend()\n",
    "\n",
    "axs[1].plot(epochs, loss, 'b', label='Training loss')\n",
    "axs[1].plot(epochs, val_loss, 'r', label='Validation loss')\n",
    "axs[1].set_title('Training and validation loss')\n",
    "axs[1].set_xlabel('Epochs')\n",
    "axs[1].set_ylabel('Loss')\n",
    "axs[1].legend()\n",
    "\n",
    "plt.show()"
   ]
  },
  {
   "cell_type": "code",
   "execution_count": 40,
   "metadata": {
    "execution": {
     "iopub.execute_input": "2023-07-05T05:34:25.899706Z",
     "iopub.status.busy": "2023-07-05T05:34:25.898778Z",
     "iopub.status.idle": "2023-07-05T05:34:47.478207Z",
     "shell.execute_reply": "2023-07-05T05:34:47.477210Z",
     "shell.execute_reply.started": "2023-07-05T05:34:25.899664Z"
    }
   },
   "outputs": [
    {
     "name": "stderr",
     "output_type": "stream",
     "text": [
      "100%|██████████| 12630/12630 [00:21<00:00, 592.76it/s]\n"
     ]
    }
   ],
   "source": [
    "labels = df[\"ClassId\"].values\n",
    "imgs = df[\"Path\"].values\n",
    "\n",
    "x_test = []\n",
    "\n",
    "for img in tqdm(imgs):\n",
    "    try:\n",
    "        image = cv2.imread(test_folder + '/' +img)\n",
    "        image = cv2.resize(image, (target_size_x,target_size_y))\n",
    "\n",
    "        x_test.append(image/255.0)\n",
    "    except:\n",
    "        print(\"Error in \" + img)\n",
    "        \n",
    "x_test = np.array(x_test, dtype = 'float32')\n",
    "y_test = keras.utils.to_categorical(labels, num_classes=43)"
   ]
  },
  {
   "cell_type": "code",
   "execution_count": 41,
   "metadata": {
    "execution": {
     "iopub.execute_input": "2023-07-05T05:38:21.344922Z",
     "iopub.status.busy": "2023-07-05T05:38:21.344509Z",
     "iopub.status.idle": "2023-07-05T05:38:30.584637Z",
     "shell.execute_reply": "2023-07-05T05:38:30.583506Z",
     "shell.execute_reply.started": "2023-07-05T05:38:21.344890Z"
    }
   },
   "outputs": [
    {
     "name": "stdout",
     "output_type": "stream",
     "text": [
      "395/395 [==============================] - 2s 5ms/step\n",
      "395/395 [==============================] - 3s 7ms/step - loss: 0.0519 - acc: 0.9861 - top-5-accuracy: 0.9982\n",
      "Test loss :  0.05186024680733681\n",
      "Test accuracy : 98.60649108886719 %\n"
     ]
    }
   ],
   "source": [
    "y_pred = model.predict(x_test)\n",
    "test_result = model.evaluate(x_test, y_test)\n",
    "\n",
    "print(\"Test loss : \", test_result[0])\n",
    "print(\"Test accuracy :\", test_result[1]*100, \"%\")"
   ]
  }
 ],
 "metadata": {
  "kernelspec": {
   "display_name": "Python 3 (ipykernel)",
   "language": "python",
   "name": "python3"
  },
  "language_info": {
   "codemirror_mode": {
    "name": "ipython",
    "version": 3
   },
   "file_extension": ".py",
   "mimetype": "text/x-python",
   "name": "python",
   "nbconvert_exporter": "python",
   "pygments_lexer": "ipython3",
   "version": "3.10.11"
  }
 },
 "nbformat": 4,
 "nbformat_minor": 4
}
